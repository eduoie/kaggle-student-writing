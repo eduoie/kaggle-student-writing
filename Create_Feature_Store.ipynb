{
 "cells": [
  {
   "cell_type": "markdown",
   "metadata": {},
   "source": [
    "Docs: https://sagemaker.readthedocs.io/en/stable/amazon_sagemaker_featurestore.html"
   ]
  },
  {
   "cell_type": "code",
   "execution_count": 2,
   "metadata": {},
   "outputs": [],
   "source": [
    "import sagemaker\n",
    "import boto3\n",
    "\n",
    "sess = sagemaker.Session()\n",
    "\n",
    "bucket = 'kaggle-writing-student'\n",
    "key_dataset = 'dataset'\n",
    "\n",
    "role = sagemaker.get_execution_role()\n",
    "region = boto3.Session().region_name\n",
    "\n",
    "sm = boto3.Session().client(service_name=\"sagemaker\", region_name=region)\n",
    "s3 = boto3.Session().client(service_name=\"s3\", region_name=region)"
   ]
  },
  {
   "cell_type": "code",
   "execution_count": 3,
   "metadata": {},
   "outputs": [
    {
     "name": "stdout",
     "output_type": "stream",
     "text": [
      "2022-02-22T14:19:43Z\n"
     ]
    }
   ],
   "source": [
    "# We need a record identifier name and an event time feature name. \n",
    "# This will match the column of the corresponding features in our data.\n",
    "from datetime import datetime\n",
    "from time import strftime\n",
    "import time\n",
    "\n",
    "timestamp = datetime.now().strftime(\"%Y-%m-%dT%H:%M:%SZ\")\n",
    "print(timestamp)"
   ]
  },
  {
   "cell_type": "code",
   "execution_count": 4,
   "metadata": {},
   "outputs": [],
   "source": [
    "# Feature store API\n",
    "featurestore_runtime = boto3.Session().client(service_name=\"sagemaker-featurestore-runtime\", region_name=region)"
   ]
  },
  {
   "cell_type": "markdown",
   "metadata": {},
   "source": [
    "## Define Feature group"
   ]
  },
  {
   "cell_type": "code",
   "execution_count": 5,
   "metadata": {},
   "outputs": [
    {
     "name": "stdout",
     "output_type": "stream",
     "text": [
      "students-discourse-feature-group-22-14-20-06\n"
     ]
    }
   ],
   "source": [
    "# Create feature group\n",
    "from time import gmtime, strftime, sleep\n",
    "\n",
    "feature_group_name = \"students-discourse-feature-group-\" + strftime(\"%d-%H-%M-%S\", gmtime())\n",
    "print(feature_group_name)"
   ]
  },
  {
   "cell_type": "code",
   "execution_count": 6,
   "metadata": {},
   "outputs": [],
   "source": [
    "from sagemaker.feature_store.feature_definition import (\n",
    "    FeatureDefinition,\n",
    "    FeatureTypeEnum,\n",
    ")\n",
    "\n",
    "feature_definitions = [\n",
    "    FeatureDefinition(feature_name=\"id\", feature_type=FeatureTypeEnum.STRING),\n",
    "    FeatureDefinition(feature_name=\"discourse_id\", feature_type=FeatureTypeEnum.STRING),\n",
    "    FeatureDefinition(feature_name=\"discourse_text\", feature_type=FeatureTypeEnum.STRING),\n",
    "    FeatureDefinition(feature_name=\"discourse_type\", feature_type=FeatureTypeEnum.STRING),\n",
    "    FeatureDefinition(feature_name=\"predictionstring\", feature_type=FeatureTypeEnum.STRING),\n",
    "    # “EventTime” can be appended to your data when no timestamp is available.\n",
    "    FeatureDefinition(feature_name=\"EventTime\", feature_type=FeatureTypeEnum.STRING),\n",
    "    # df[\"split_type\"] = \"train\", or \"valid\", or \"teset\"\n",
    "    FeatureDefinition(feature_name=\"split_type\", feature_type=FeatureTypeEnum.STRING),\n",
    "]"
   ]
  },
  {
   "cell_type": "code",
   "execution_count": 7,
   "metadata": {},
   "outputs": [],
   "source": [
    "# id and time identifiers for the feature group\n",
    "\n",
    "record_identifier_feature_name = \"discourse_id\"\n",
    "event_time_feature_name = \"EventTime\""
   ]
  },
  {
   "cell_type": "code",
   "execution_count": 8,
   "metadata": {},
   "outputs": [
    {
     "name": "stdout",
     "output_type": "stream",
     "text": [
      "FeatureGroup(name='students-discourse-feature-group-22-14-20-06', sagemaker_session=<sagemaker.session.Session object at 0x7ffaa30d1550>, feature_definitions=[FeatureDefinition(feature_name='id', feature_type=<FeatureTypeEnum.STRING: 'String'>), FeatureDefinition(feature_name='discourse_id', feature_type=<FeatureTypeEnum.STRING: 'String'>), FeatureDefinition(feature_name='discourse_text', feature_type=<FeatureTypeEnum.STRING: 'String'>), FeatureDefinition(feature_name='discourse_type', feature_type=<FeatureTypeEnum.STRING: 'String'>), FeatureDefinition(feature_name='predictionstring', feature_type=<FeatureTypeEnum.STRING: 'String'>), FeatureDefinition(feature_name='EventTime', feature_type=<FeatureTypeEnum.STRING: 'String'>), FeatureDefinition(feature_name='split_type', feature_type=<FeatureTypeEnum.STRING: 'String'>)])\n"
     ]
    }
   ],
   "source": [
    "from sagemaker.feature_store.feature_group import FeatureGroup\n",
    "\n",
    "feature_group = FeatureGroup(name=feature_group_name, feature_definitions=feature_definitions, sagemaker_session=sess)\n",
    "print(feature_group)"
   ]
  },
  {
   "cell_type": "markdown",
   "metadata": {},
   "source": [
    "Cast DataFrame `Object` to Supported Feature Store Data Type `String`"
   ]
  },
  {
   "cell_type": "code",
   "execution_count": 9,
   "metadata": {},
   "outputs": [],
   "source": [
    "def cast_object_to_string(data_frame):\n",
    "    for label in data_frame.columns:\n",
    "        if data_frame.dtypes[label] == \"object\":\n",
    "            data_frame[label] = data_frame[label].astype(\"str\").astype(\"string\")\n",
    "            \n",
    "# def cast_discourse_id_to_int(data_frame):\n",
    "#     data_frame.discourse_id = data_frame.discourse_id.astype(int)"
   ]
  },
  {
   "cell_type": "markdown",
   "metadata": {},
   "source": [
    "## Create feature group"
   ]
  },
  {
   "cell_type": "code",
   "execution_count": 10,
   "metadata": {},
   "outputs": [
    {
     "name": "stdout",
     "output_type": "stream",
     "text": [
      "students-discourse-feature-store-2022-02-22T14:19:43Z\n"
     ]
    }
   ],
   "source": [
    "prefix_offline_store = \"students-discourse-feature-store-\" + timestamp\n",
    "print(prefix_offline_store)"
   ]
  },
  {
   "cell_type": "code",
   "execution_count": null,
   "metadata": {},
   "outputs": [],
   "source": [
    "feature_group.create(\n",
    "    s3_uri=f\"s3://{bucket}/{prefix_offline_store}\",\n",
    "    record_identifier_name=record_identifier_feature_name,\n",
    "    event_time_feature_name=event_time_feature_name,\n",
    "    role_arn=role,\n",
    "    enable_online_store=False,\n",
    ")"
   ]
  },
  {
   "cell_type": "code",
   "execution_count": null,
   "metadata": {},
   "outputs": [],
   "source": [
    "feature_group.describe()"
   ]
  },
  {
   "cell_type": "code",
   "execution_count": 13,
   "metadata": {},
   "outputs": [
    {
     "name": "stdout",
     "output_type": "stream",
     "text": [
      "Waiting for Feature Group Creation\n",
      "Waiting for Feature Group Creation\n",
      "Waiting for Feature Group Creation\n",
      "Waiting for Feature Group Creation\n",
      "FeatureGroup students-discourse-feature-group-22-14-20-06 successfully created.\n"
     ]
    }
   ],
   "source": [
    "# Is created?\n",
    "import time\n",
    "\n",
    "\n",
    "def wait_for_feature_group_creation_complete(feature_group):\n",
    "    status = feature_group.describe().get(\"FeatureGroupStatus\")\n",
    "    while status == \"Creating\":\n",
    "        print(\"Waiting for Feature Group Creation\")\n",
    "        time.sleep(5)\n",
    "        status = feature_group.describe().get(\"FeatureGroupStatus\")\n",
    "    if status != \"Created\":\n",
    "        raise RuntimeError(f\"Failed to create feature group {feature_group.name}\")\n",
    "    print(f\"FeatureGroup {feature_group.name} successfully created.\")\n",
    "    \n",
    "wait_for_feature_group_creation_complete(feature_group)"
   ]
  },
  {
   "cell_type": "markdown",
   "metadata": {},
   "source": [
    "# Split and prepare datasets"
   ]
  },
  {
   "cell_type": "code",
   "execution_count": 14,
   "metadata": {},
   "outputs": [
    {
     "name": "stdout",
     "output_type": "stream",
     "text": [
      "download: s3://kaggle-writing-student/dataset/train.csv to dataset/train.csv\n"
     ]
    }
   ],
   "source": [
    "path = 's3://{}/{}/train.csv'.format(bucket, key_dataset)\n",
    "!aws s3 cp $path ./dataset/"
   ]
  },
  {
   "cell_type": "code",
   "execution_count": 46,
   "metadata": {},
   "outputs": [],
   "source": [
    "import pandas as pd"
   ]
  },
  {
   "cell_type": "code",
   "execution_count": 47,
   "metadata": {},
   "outputs": [],
   "source": [
    "train_df = pd.read_csv('./dataset/train.csv')"
   ]
  },
  {
   "cell_type": "code",
   "execution_count": 48,
   "metadata": {},
   "outputs": [
    {
     "data": {
      "text/plain": [
       "id                     object\n",
       "discourse_id          float64\n",
       "discourse_start       float64\n",
       "discourse_end         float64\n",
       "discourse_text         object\n",
       "discourse_type         object\n",
       "discourse_type_num     object\n",
       "predictionstring       object\n",
       "dtype: object"
      ]
     },
     "execution_count": 48,
     "metadata": {},
     "output_type": "execute_result"
    }
   ],
   "source": [
    "train_df.dtypes"
   ]
  },
  {
   "cell_type": "code",
   "execution_count": 49,
   "metadata": {},
   "outputs": [],
   "source": [
    "train_df.discourse_id = train_df.discourse_id.astype(int).astype(str).astype('string')"
   ]
  },
  {
   "cell_type": "code",
   "execution_count": 50,
   "metadata": {},
   "outputs": [],
   "source": [
    "# This dataframe doesn't have the date type included, so we have to create it\n",
    "# Accepted date formats: yyyy-MM-dd'T'HH:mm:ssZ, yyyy-MM-dd'T'HH:mm:ss.SSSZ\n",
    "train_df[event_time_feature_name] = pd.Series([timestamp]*len(train_df), dtype=\"string\")"
   ]
  },
  {
   "cell_type": "markdown",
   "metadata": {},
   "source": [
    "## Feature engineering\n",
    "\n",
    "It is necessary to filter out some special characters, otherwise the parsing will fail with:\n",
    "\n",
    "> Failed to ingest row 76964: An error occurred (ValidationException) when calling the PutRecord operation: 1 validation error detected: Value 'content of discourse text' at 'record.3.member.valueAsString' failed to satisfy constraint: Member must satisfy regular expression pattern: .*"
   ]
  },
  {
   "cell_type": "code",
   "execution_count": 51,
   "metadata": {},
   "outputs": [],
   "source": [
    "import re\n",
    "\n",
    "train_df.discourse_text = train_df.discourse_text.apply(lambda text: re.sub('[^A-Za-z0-9]+', ' ', text))"
   ]
  },
  {
   "cell_type": "code",
   "execution_count": 52,
   "metadata": {},
   "outputs": [
    {
     "data": {
      "text/html": [
       "<div>\n",
       "<style scoped>\n",
       "    .dataframe tbody tr th:only-of-type {\n",
       "        vertical-align: middle;\n",
       "    }\n",
       "\n",
       "    .dataframe tbody tr th {\n",
       "        vertical-align: top;\n",
       "    }\n",
       "\n",
       "    .dataframe thead th {\n",
       "        text-align: right;\n",
       "    }\n",
       "</style>\n",
       "<table border=\"1\" class=\"dataframe\">\n",
       "  <thead>\n",
       "    <tr style=\"text-align: right;\">\n",
       "      <th></th>\n",
       "      <th>id</th>\n",
       "      <th>discourse_id</th>\n",
       "      <th>discourse_start</th>\n",
       "      <th>discourse_end</th>\n",
       "      <th>discourse_text</th>\n",
       "      <th>discourse_type</th>\n",
       "      <th>discourse_type_num</th>\n",
       "      <th>predictionstring</th>\n",
       "      <th>EventTime</th>\n",
       "    </tr>\n",
       "  </thead>\n",
       "  <tbody>\n",
       "    <tr>\n",
       "      <th>0</th>\n",
       "      <td>423A1CA112E2</td>\n",
       "      <td>1622627660524</td>\n",
       "      <td>8.0</td>\n",
       "      <td>229.0</td>\n",
       "      <td>Modern humans today are always on their phone ...</td>\n",
       "      <td>Lead</td>\n",
       "      <td>Lead 1</td>\n",
       "      <td>1 2 3 4 5 6 7 8 9 10 11 12 13 14 15 16 17 18 1...</td>\n",
       "      <td>2022-02-22T14:19:43Z</td>\n",
       "    </tr>\n",
       "    <tr>\n",
       "      <th>1</th>\n",
       "      <td>423A1CA112E2</td>\n",
       "      <td>1622627653021</td>\n",
       "      <td>230.0</td>\n",
       "      <td>312.0</td>\n",
       "      <td>They are some really bad consequences when stu...</td>\n",
       "      <td>Position</td>\n",
       "      <td>Position 1</td>\n",
       "      <td>45 46 47 48 49 50 51 52 53 54 55 56 57 58 59</td>\n",
       "      <td>2022-02-22T14:19:43Z</td>\n",
       "    </tr>\n",
       "    <tr>\n",
       "      <th>2</th>\n",
       "      <td>423A1CA112E2</td>\n",
       "      <td>1622627671020</td>\n",
       "      <td>313.0</td>\n",
       "      <td>401.0</td>\n",
       "      <td>Some certain areas in the United States ban ph...</td>\n",
       "      <td>Evidence</td>\n",
       "      <td>Evidence 1</td>\n",
       "      <td>60 61 62 63 64 65 66 67 68 69 70 71 72 73 74 75</td>\n",
       "      <td>2022-02-22T14:19:43Z</td>\n",
       "    </tr>\n",
       "    <tr>\n",
       "      <th>3</th>\n",
       "      <td>423A1CA112E2</td>\n",
       "      <td>1622627696365</td>\n",
       "      <td>402.0</td>\n",
       "      <td>758.0</td>\n",
       "      <td>When people have phones they know about certai...</td>\n",
       "      <td>Evidence</td>\n",
       "      <td>Evidence 2</td>\n",
       "      <td>76 77 78 79 80 81 82 83 84 85 86 87 88 89 90 9...</td>\n",
       "      <td>2022-02-22T14:19:43Z</td>\n",
       "    </tr>\n",
       "    <tr>\n",
       "      <th>4</th>\n",
       "      <td>423A1CA112E2</td>\n",
       "      <td>1622627759780</td>\n",
       "      <td>759.0</td>\n",
       "      <td>886.0</td>\n",
       "      <td>Driving is one of the way how to get around Pe...</td>\n",
       "      <td>Claim</td>\n",
       "      <td>Claim 1</td>\n",
       "      <td>139 140 141 142 143 144 145 146 147 148 149 15...</td>\n",
       "      <td>2022-02-22T14:19:43Z</td>\n",
       "    </tr>\n",
       "  </tbody>\n",
       "</table>\n",
       "</div>"
      ],
      "text/plain": [
       "             id   discourse_id  discourse_start  discourse_end  \\\n",
       "0  423A1CA112E2  1622627660524              8.0          229.0   \n",
       "1  423A1CA112E2  1622627653021            230.0          312.0   \n",
       "2  423A1CA112E2  1622627671020            313.0          401.0   \n",
       "3  423A1CA112E2  1622627696365            402.0          758.0   \n",
       "4  423A1CA112E2  1622627759780            759.0          886.0   \n",
       "\n",
       "                                      discourse_text discourse_type  \\\n",
       "0  Modern humans today are always on their phone ...           Lead   \n",
       "1  They are some really bad consequences when stu...       Position   \n",
       "2  Some certain areas in the United States ban ph...       Evidence   \n",
       "3  When people have phones they know about certai...       Evidence   \n",
       "4  Driving is one of the way how to get around Pe...          Claim   \n",
       "\n",
       "  discourse_type_num                                   predictionstring  \\\n",
       "0             Lead 1  1 2 3 4 5 6 7 8 9 10 11 12 13 14 15 16 17 18 1...   \n",
       "1         Position 1       45 46 47 48 49 50 51 52 53 54 55 56 57 58 59   \n",
       "2         Evidence 1    60 61 62 63 64 65 66 67 68 69 70 71 72 73 74 75   \n",
       "3         Evidence 2  76 77 78 79 80 81 82 83 84 85 86 87 88 89 90 9...   \n",
       "4            Claim 1  139 140 141 142 143 144 145 146 147 148 149 15...   \n",
       "\n",
       "              EventTime  \n",
       "0  2022-02-22T14:19:43Z  \n",
       "1  2022-02-22T14:19:43Z  \n",
       "2  2022-02-22T14:19:43Z  \n",
       "3  2022-02-22T14:19:43Z  \n",
       "4  2022-02-22T14:19:43Z  "
      ]
     },
     "execution_count": 52,
     "metadata": {},
     "output_type": "execute_result"
    }
   ],
   "source": [
    "train_df.head()"
   ]
  },
  {
   "cell_type": "code",
   "execution_count": 53,
   "metadata": {},
   "outputs": [
    {
     "data": {
      "text/plain": [
       "(115434, 7, 115441)"
      ]
     },
     "execution_count": 53,
     "metadata": {},
     "output_type": "execute_result"
    }
   ],
   "source": [
    "# 10% for validation from 0.8 to 0.9\n",
    "cutoff = int(len(train_df) * 0.8)\n",
    "id_at_position = train_df.id[cutoff]\n",
    "count = 0\n",
    "while id_at_position == train_df.id[cutoff + count]:\n",
    "    count += 1\n",
    "index_valid_df = cutoff + count\n",
    "cutoff, count, index_valid_df"
   ]
  },
  {
   "cell_type": "code",
   "execution_count": 54,
   "metadata": {},
   "outputs": [
    {
     "data": {
      "text/plain": [
       "(129863, 11, 129874)"
      ]
     },
     "execution_count": 54,
     "metadata": {},
     "output_type": "execute_result"
    }
   ],
   "source": [
    "# 10% for test\n",
    "# 10% for validation 0.8 to 0.9\n",
    "cutoff = int(len(train_df) * 0.9)\n",
    "id_at_position = train_df.id[cutoff]\n",
    "count = 0\n",
    "while id_at_position == train_df.id[cutoff + count]:\n",
    "    count += 1\n",
    "index_test_df = cutoff + count\n",
    "cutoff, count, index_test_df"
   ]
  },
  {
   "cell_type": "code",
   "execution_count": 55,
   "metadata": {},
   "outputs": [
    {
     "data": {
      "text/plain": [
       "14433"
      ]
     },
     "execution_count": 55,
     "metadata": {},
     "output_type": "execute_result"
    }
   ],
   "source": [
    "valid_df = train_df[index_valid_df:index_test_df].copy()\n",
    "len(valid_df)"
   ]
  },
  {
   "cell_type": "code",
   "execution_count": 56,
   "metadata": {},
   "outputs": [
    {
     "data": {
      "text/plain": [
       "14419"
      ]
     },
     "execution_count": 56,
     "metadata": {},
     "output_type": "execute_result"
    }
   ],
   "source": [
    "test_df = train_df[index_test_df:].copy()\n",
    "len(test_df)"
   ]
  },
  {
   "cell_type": "code",
   "execution_count": 57,
   "metadata": {},
   "outputs": [
    {
     "data": {
      "text/html": [
       "<div>\n",
       "<style scoped>\n",
       "    .dataframe tbody tr th:only-of-type {\n",
       "        vertical-align: middle;\n",
       "    }\n",
       "\n",
       "    .dataframe tbody tr th {\n",
       "        vertical-align: top;\n",
       "    }\n",
       "\n",
       "    .dataframe thead th {\n",
       "        text-align: right;\n",
       "    }\n",
       "</style>\n",
       "<table border=\"1\" class=\"dataframe\">\n",
       "  <thead>\n",
       "    <tr style=\"text-align: right;\">\n",
       "      <th></th>\n",
       "      <th>id</th>\n",
       "      <th>discourse_id</th>\n",
       "      <th>discourse_start</th>\n",
       "      <th>discourse_end</th>\n",
       "      <th>discourse_text</th>\n",
       "      <th>discourse_type</th>\n",
       "      <th>discourse_type_num</th>\n",
       "      <th>predictionstring</th>\n",
       "      <th>EventTime</th>\n",
       "    </tr>\n",
       "  </thead>\n",
       "  <tbody>\n",
       "    <tr>\n",
       "      <th>115439</th>\n",
       "      <td>25FC80C2D25E</td>\n",
       "      <td>1621872008064</td>\n",
       "      <td>1680.0</td>\n",
       "      <td>2131.0</td>\n",
       "      <td>She was really upset and hopeless and I was f...</td>\n",
       "      <td>Evidence</td>\n",
       "      <td>Evidence 2</td>\n",
       "      <td>326 327 328 329 330 331 332 333 334 335 336 33...</td>\n",
       "      <td>2022-02-22T14:19:43Z</td>\n",
       "    </tr>\n",
       "    <tr>\n",
       "      <th>115440</th>\n",
       "      <td>25FC80C2D25E</td>\n",
       "      <td>1621872020866</td>\n",
       "      <td>2132.0</td>\n",
       "      <td>2421.0</td>\n",
       "      <td>So I would say that taking the online course w...</td>\n",
       "      <td>Concluding Statement</td>\n",
       "      <td>Concluding Statement 1</td>\n",
       "      <td>410 411 412 413 414 415 416 417 418 419 420 42...</td>\n",
       "      <td>2022-02-22T14:19:43Z</td>\n",
       "    </tr>\n",
       "  </tbody>\n",
       "</table>\n",
       "</div>"
      ],
      "text/plain": [
       "                  id   discourse_id  discourse_start  discourse_end  \\\n",
       "115439  25FC80C2D25E  1621872008064           1680.0         2131.0   \n",
       "115440  25FC80C2D25E  1621872020866           2132.0         2421.0   \n",
       "\n",
       "                                           discourse_text  \\\n",
       "115439   She was really upset and hopeless and I was f...   \n",
       "115440  So I would say that taking the online course w...   \n",
       "\n",
       "              discourse_type      discourse_type_num  \\\n",
       "115439              Evidence              Evidence 2   \n",
       "115440  Concluding Statement  Concluding Statement 1   \n",
       "\n",
       "                                         predictionstring  \\\n",
       "115439  326 327 328 329 330 331 332 333 334 335 336 33...   \n",
       "115440  410 411 412 413 414 415 416 417 418 419 420 42...   \n",
       "\n",
       "                   EventTime  \n",
       "115439  2022-02-22T14:19:43Z  \n",
       "115440  2022-02-22T14:19:43Z  "
      ]
     },
     "execution_count": 57,
     "metadata": {},
     "output_type": "execute_result"
    }
   ],
   "source": [
    "train_df = train_df[:index_valid_df].copy()\n",
    "train_df.tail(2)"
   ]
  },
  {
   "cell_type": "code",
   "execution_count": 70,
   "metadata": {},
   "outputs": [],
   "source": [
    "train_df['split_type'] = 'train'\n",
    "valid_df['split_type'] = 'validation'\n",
    "test_df['split_type'] = 'test'"
   ]
  },
  {
   "cell_type": "code",
   "execution_count": 59,
   "metadata": {},
   "outputs": [
    {
     "data": {
      "text/html": [
       "<div>\n",
       "<style scoped>\n",
       "    .dataframe tbody tr th:only-of-type {\n",
       "        vertical-align: middle;\n",
       "    }\n",
       "\n",
       "    .dataframe tbody tr th {\n",
       "        vertical-align: top;\n",
       "    }\n",
       "\n",
       "    .dataframe thead th {\n",
       "        text-align: right;\n",
       "    }\n",
       "</style>\n",
       "<table border=\"1\" class=\"dataframe\">\n",
       "  <thead>\n",
       "    <tr style=\"text-align: right;\">\n",
       "      <th></th>\n",
       "      <th>id</th>\n",
       "      <th>discourse_id</th>\n",
       "      <th>discourse_start</th>\n",
       "      <th>discourse_end</th>\n",
       "      <th>discourse_text</th>\n",
       "      <th>discourse_type</th>\n",
       "      <th>discourse_type_num</th>\n",
       "      <th>predictionstring</th>\n",
       "      <th>EventTime</th>\n",
       "      <th>split_type</th>\n",
       "    </tr>\n",
       "  </thead>\n",
       "  <tbody>\n",
       "    <tr>\n",
       "      <th>115440</th>\n",
       "      <td>25FC80C2D25E</td>\n",
       "      <td>1621872020866</td>\n",
       "      <td>2132.0</td>\n",
       "      <td>2421.0</td>\n",
       "      <td>So I would say that taking the online course w...</td>\n",
       "      <td>Concluding Statement</td>\n",
       "      <td>Concluding Statement 1</td>\n",
       "      <td>410 411 412 413 414 415 416 417 418 419 420 42...</td>\n",
       "      <td>2022-02-22T14:19:43Z</td>\n",
       "      <td>train</td>\n",
       "    </tr>\n",
       "  </tbody>\n",
       "</table>\n",
       "</div>"
      ],
      "text/plain": [
       "                  id   discourse_id  discourse_start  discourse_end  \\\n",
       "115440  25FC80C2D25E  1621872020866           2132.0         2421.0   \n",
       "\n",
       "                                           discourse_text  \\\n",
       "115440  So I would say that taking the online course w...   \n",
       "\n",
       "              discourse_type      discourse_type_num  \\\n",
       "115440  Concluding Statement  Concluding Statement 1   \n",
       "\n",
       "                                         predictionstring  \\\n",
       "115440  410 411 412 413 414 415 416 417 418 419 420 42...   \n",
       "\n",
       "                   EventTime split_type  \n",
       "115440  2022-02-22T14:19:43Z      train  "
      ]
     },
     "execution_count": 59,
     "metadata": {},
     "output_type": "execute_result"
    }
   ],
   "source": [
    "train_df.tail(1)"
   ]
  },
  {
   "cell_type": "code",
   "execution_count": 71,
   "metadata": {},
   "outputs": [
    {
     "data": {
      "text/html": [
       "<div>\n",
       "<style scoped>\n",
       "    .dataframe tbody tr th:only-of-type {\n",
       "        vertical-align: middle;\n",
       "    }\n",
       "\n",
       "    .dataframe tbody tr th {\n",
       "        vertical-align: top;\n",
       "    }\n",
       "\n",
       "    .dataframe thead th {\n",
       "        text-align: right;\n",
       "    }\n",
       "</style>\n",
       "<table border=\"1\" class=\"dataframe\">\n",
       "  <thead>\n",
       "    <tr style=\"text-align: right;\">\n",
       "      <th></th>\n",
       "      <th>id</th>\n",
       "      <th>discourse_id</th>\n",
       "      <th>discourse_start</th>\n",
       "      <th>discourse_end</th>\n",
       "      <th>discourse_text</th>\n",
       "      <th>discourse_type</th>\n",
       "      <th>discourse_type_num</th>\n",
       "      <th>predictionstring</th>\n",
       "      <th>EventTime</th>\n",
       "      <th>split_type</th>\n",
       "    </tr>\n",
       "  </thead>\n",
       "  <tbody>\n",
       "    <tr>\n",
       "      <th>129873</th>\n",
       "      <td>12988594D953</td>\n",
       "      <td>1617719319305</td>\n",
       "      <td>2676.0</td>\n",
       "      <td>3286.0</td>\n",
       "      <td>This complied understanding from different ide...</td>\n",
       "      <td>Concluding Statement</td>\n",
       "      <td>Concluding Statement 1</td>\n",
       "      <td>463 464 465 466 467 468 469 470 471 472 473 47...</td>\n",
       "      <td>2022-02-22T14:19:43Z</td>\n",
       "      <td>validation</td>\n",
       "    </tr>\n",
       "  </tbody>\n",
       "</table>\n",
       "</div>"
      ],
      "text/plain": [
       "                  id   discourse_id  discourse_start  discourse_end  \\\n",
       "129873  12988594D953  1617719319305           2676.0         3286.0   \n",
       "\n",
       "                                           discourse_text  \\\n",
       "129873  This complied understanding from different ide...   \n",
       "\n",
       "              discourse_type      discourse_type_num  \\\n",
       "129873  Concluding Statement  Concluding Statement 1   \n",
       "\n",
       "                                         predictionstring  \\\n",
       "129873  463 464 465 466 467 468 469 470 471 472 473 47...   \n",
       "\n",
       "                   EventTime  split_type  \n",
       "129873  2022-02-22T14:19:43Z  validation  "
      ]
     },
     "execution_count": 71,
     "metadata": {},
     "output_type": "execute_result"
    }
   ],
   "source": [
    "valid_df.tail(1)"
   ]
  },
  {
   "cell_type": "markdown",
   "metadata": {},
   "source": [
    "# Ingest Data"
   ]
  },
  {
   "cell_type": "code",
   "execution_count": 61,
   "metadata": {},
   "outputs": [],
   "source": [
    "cast_object_to_string(train_df)\n",
    "cast_object_to_string(valid_df)\n",
    "cast_object_to_string(test_df)"
   ]
  },
  {
   "cell_type": "code",
   "execution_count": 62,
   "metadata": {},
   "outputs": [
    {
     "data": {
      "text/plain": [
       "id                     string\n",
       "discourse_id           string\n",
       "discourse_start       float64\n",
       "discourse_end         float64\n",
       "discourse_text         string\n",
       "discourse_type         string\n",
       "discourse_type_num     string\n",
       "predictionstring       string\n",
       "EventTime              string\n",
       "split_type             string\n",
       "dtype: object"
      ]
     },
     "execution_count": 62,
     "metadata": {},
     "output_type": "execute_result"
    }
   ],
   "source": [
    "train_df.dtypes"
   ]
  },
  {
   "cell_type": "code",
   "execution_count": 64,
   "metadata": {},
   "outputs": [],
   "source": [
    "columns_to_include = \\\n",
    "    ['id', 'discourse_id', 'discourse_text', 'discourse_type', 'predictionstring', 'EventTime', 'split_type']"
   ]
  },
  {
   "cell_type": "code",
   "execution_count": 65,
   "metadata": {},
   "outputs": [
    {
     "data": {
      "text/plain": [
       "['id',\n",
       " 'discourse_id',\n",
       " 'discourse_text',\n",
       " 'discourse_type',\n",
       " 'predictionstring',\n",
       " 'EventTime',\n",
       " 'split_type']"
      ]
     },
     "execution_count": 65,
     "metadata": {},
     "output_type": "execute_result"
    }
   ],
   "source": [
    "columns_to_include"
   ]
  },
  {
   "cell_type": "code",
   "execution_count": 66,
   "metadata": {},
   "outputs": [
    {
     "data": {
      "text/html": [
       "<div>\n",
       "<style scoped>\n",
       "    .dataframe tbody tr th:only-of-type {\n",
       "        vertical-align: middle;\n",
       "    }\n",
       "\n",
       "    .dataframe tbody tr th {\n",
       "        vertical-align: top;\n",
       "    }\n",
       "\n",
       "    .dataframe thead th {\n",
       "        text-align: right;\n",
       "    }\n",
       "</style>\n",
       "<table border=\"1\" class=\"dataframe\">\n",
       "  <thead>\n",
       "    <tr style=\"text-align: right;\">\n",
       "      <th></th>\n",
       "      <th>id</th>\n",
       "      <th>discourse_id</th>\n",
       "      <th>discourse_text</th>\n",
       "      <th>discourse_type</th>\n",
       "      <th>predictionstring</th>\n",
       "      <th>EventTime</th>\n",
       "      <th>split_type</th>\n",
       "    </tr>\n",
       "  </thead>\n",
       "  <tbody>\n",
       "    <tr>\n",
       "      <th>0</th>\n",
       "      <td>423A1CA112E2</td>\n",
       "      <td>1622627660524</td>\n",
       "      <td>Modern humans today are always on their phone ...</td>\n",
       "      <td>Lead</td>\n",
       "      <td>1 2 3 4 5 6 7 8 9 10 11 12 13 14 15 16 17 18 1...</td>\n",
       "      <td>2022-02-22T14:19:43Z</td>\n",
       "      <td>train</td>\n",
       "    </tr>\n",
       "    <tr>\n",
       "      <th>1</th>\n",
       "      <td>423A1CA112E2</td>\n",
       "      <td>1622627653021</td>\n",
       "      <td>They are some really bad consequences when stu...</td>\n",
       "      <td>Position</td>\n",
       "      <td>45 46 47 48 49 50 51 52 53 54 55 56 57 58 59</td>\n",
       "      <td>2022-02-22T14:19:43Z</td>\n",
       "      <td>train</td>\n",
       "    </tr>\n",
       "    <tr>\n",
       "      <th>2</th>\n",
       "      <td>423A1CA112E2</td>\n",
       "      <td>1622627671020</td>\n",
       "      <td>Some certain areas in the United States ban ph...</td>\n",
       "      <td>Evidence</td>\n",
       "      <td>60 61 62 63 64 65 66 67 68 69 70 71 72 73 74 75</td>\n",
       "      <td>2022-02-22T14:19:43Z</td>\n",
       "      <td>train</td>\n",
       "    </tr>\n",
       "    <tr>\n",
       "      <th>3</th>\n",
       "      <td>423A1CA112E2</td>\n",
       "      <td>1622627696365</td>\n",
       "      <td>When people have phones they know about certai...</td>\n",
       "      <td>Evidence</td>\n",
       "      <td>76 77 78 79 80 81 82 83 84 85 86 87 88 89 90 9...</td>\n",
       "      <td>2022-02-22T14:19:43Z</td>\n",
       "      <td>train</td>\n",
       "    </tr>\n",
       "    <tr>\n",
       "      <th>4</th>\n",
       "      <td>423A1CA112E2</td>\n",
       "      <td>1622627759780</td>\n",
       "      <td>Driving is one of the way how to get around Pe...</td>\n",
       "      <td>Claim</td>\n",
       "      <td>139 140 141 142 143 144 145 146 147 148 149 15...</td>\n",
       "      <td>2022-02-22T14:19:43Z</td>\n",
       "      <td>train</td>\n",
       "    </tr>\n",
       "  </tbody>\n",
       "</table>\n",
       "</div>"
      ],
      "text/plain": [
       "             id   discourse_id  \\\n",
       "0  423A1CA112E2  1622627660524   \n",
       "1  423A1CA112E2  1622627653021   \n",
       "2  423A1CA112E2  1622627671020   \n",
       "3  423A1CA112E2  1622627696365   \n",
       "4  423A1CA112E2  1622627759780   \n",
       "\n",
       "                                      discourse_text discourse_type  \\\n",
       "0  Modern humans today are always on their phone ...           Lead   \n",
       "1  They are some really bad consequences when stu...       Position   \n",
       "2  Some certain areas in the United States ban ph...       Evidence   \n",
       "3  When people have phones they know about certai...       Evidence   \n",
       "4  Driving is one of the way how to get around Pe...          Claim   \n",
       "\n",
       "                                    predictionstring             EventTime  \\\n",
       "0  1 2 3 4 5 6 7 8 9 10 11 12 13 14 15 16 17 18 1...  2022-02-22T14:19:43Z   \n",
       "1       45 46 47 48 49 50 51 52 53 54 55 56 57 58 59  2022-02-22T14:19:43Z   \n",
       "2    60 61 62 63 64 65 66 67 68 69 70 71 72 73 74 75  2022-02-22T14:19:43Z   \n",
       "3  76 77 78 79 80 81 82 83 84 85 86 87 88 89 90 9...  2022-02-22T14:19:43Z   \n",
       "4  139 140 141 142 143 144 145 146 147 148 149 15...  2022-02-22T14:19:43Z   \n",
       "\n",
       "  split_type  \n",
       "0      train  \n",
       "1      train  \n",
       "2      train  \n",
       "3      train  \n",
       "4      train  "
      ]
     },
     "execution_count": 66,
     "metadata": {},
     "output_type": "execute_result"
    }
   ],
   "source": [
    "train_df[columns_to_include].head()"
   ]
  },
  {
   "cell_type": "code",
   "execution_count": 67,
   "metadata": {},
   "outputs": [
    {
     "data": {
      "text/plain": [
       "IngestionManagerPandas(feature_group_name='students-discourse-feature-group-22-14-20-06', sagemaker_fs_runtime_client_config=<botocore.config.Config object at 0x7ffaa2185910>, max_workers=3, max_processes=1, _async_result=<multiprocess.pool.MapResult object at 0x7ffa96369510>, _processing_pool=<pool ProcessPool(ncpus=1)>, _failed_indices=[])"
      ]
     },
     "execution_count": 67,
     "metadata": {},
     "output_type": "execute_result"
    }
   ],
   "source": [
    "feature_group.ingest(data_frame=train_df[columns_to_include], max_workers=3, wait=True)"
   ]
  },
  {
   "cell_type": "code",
   "execution_count": 69,
   "metadata": {},
   "outputs": [],
   "source": [
    "# Only if OnlineStore enabled for FeatureGroup\n",
    "\n",
    "# record_identifier_value = \"1622627660524\"\n",
    "\n",
    "# featurestore_runtime.get_record(\n",
    "#     FeatureGroupName=feature_group_name, RecordIdentifierValueAsString=record_identifier_value\n",
    "# )"
   ]
  },
  {
   "cell_type": "code",
   "execution_count": 72,
   "metadata": {},
   "outputs": [
    {
     "data": {
      "text/plain": [
       "IngestionManagerPandas(feature_group_name='students-discourse-feature-group-22-14-20-06', sagemaker_fs_runtime_client_config=<botocore.config.Config object at 0x7ffaa2185910>, max_workers=3, max_processes=1, _async_result=<multiprocess.pool.MapResult object at 0x7ffaa1818f50>, _processing_pool=<pool ProcessPool(ncpus=1)>, _failed_indices=[])"
      ]
     },
     "execution_count": 72,
     "metadata": {},
     "output_type": "execute_result"
    }
   ],
   "source": [
    "feature_group.ingest(data_frame=valid_df[columns_to_include], max_workers=3, wait=True)"
   ]
  },
  {
   "cell_type": "code",
   "execution_count": 73,
   "metadata": {},
   "outputs": [
    {
     "data": {
      "text/plain": [
       "IngestionManagerPandas(feature_group_name='students-discourse-feature-group-22-14-20-06', sagemaker_fs_runtime_client_config=<botocore.config.Config object at 0x7ffaa2185910>, max_workers=3, max_processes=1, _async_result=<multiprocess.pool.MapResult object at 0x7ffa9366dcd0>, _processing_pool=<pool ProcessPool(ncpus=1)>, _failed_indices=[])"
      ]
     },
     "execution_count": 73,
     "metadata": {},
     "output_type": "execute_result"
    }
   ],
   "source": [
    "feature_group.ingest(data_frame=test_df[columns_to_include], max_workers=3, wait=True)"
   ]
  },
  {
   "cell_type": "code",
   "execution_count": null,
   "metadata": {},
   "outputs": [],
   "source": []
  }
 ],
 "metadata": {
  "kernelspec": {
   "display_name": "Python 3 (Data Science)",
   "language": "python",
   "name": "python3__SAGEMAKER_INTERNAL__arn:aws:sagemaker:us-east-1:081325390199:image/datascience-1.0"
  },
  "language_info": {
   "codemirror_mode": {
    "name": "ipython",
    "version": 3
   },
   "file_extension": ".py",
   "mimetype": "text/x-python",
   "name": "python",
   "nbconvert_exporter": "python",
   "pygments_lexer": "ipython3",
   "version": "3.7.10"
  }
 },
 "nbformat": 4,
 "nbformat_minor": 4
}
